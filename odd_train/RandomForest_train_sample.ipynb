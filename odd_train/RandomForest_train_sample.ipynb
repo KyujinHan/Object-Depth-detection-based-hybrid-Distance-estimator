{
 "cells": [
  {
   "cell_type": "markdown",
   "metadata": {},
   "source": [
    "# @author : ODD team\n",
    "## @ randomforest version\n",
    "  \n",
    "#### You cau use this form about training."
   ]
  },
  {
   "cell_type": "code",
   "execution_count": null,
   "metadata": {},
   "outputs": [],
   "source": [
    "##Load module\n",
    "from tqdm import tqdm\n",
    "import os\n",
    "import pandas as pd\n",
    "import numpy as np\n",
    "import time\n",
    "import torch\n",
    "\n",
    "from sklearn.model_selection import train_test_split\n",
    "from sklearn.ensemble import RandomForestRegressor\n",
    "from sklearn import metrics\n",
    "from sklearn import ensemble\n",
    "from sklearn.preprocessing import StandardScaler\n",
    "from sklearn.metrics import mean_squared_error\n",
    "from sklearn.model_selection import GridSearchCV\n",
    "from sklearn.metrics import mean_absolute_error\n",
    "\n",
    "from sklearn.metrics import make_scorer\n",
    "#define your own mse and set greater_is_better=False\n",
    "mse = make_scorer(mean_squared_error,greater_is_better=False)"
   ]
  },
  {
   "cell_type": "code",
   "execution_count": null,
   "metadata": {
    "id": "EB8-owZPHgvO"
   },
   "outputs": [],
   "source": [
    "os.makedirs('./weights', exist_ok=True)"
   ]
  },
  {
   "cell_type": "markdown",
   "metadata": {
    "id": "ci2rpVkiHwpn"
   },
   "source": [
    "##Dataset"
   ]
  },
  {
   "cell_type": "code",
   "execution_count": null,
   "metadata": {
    "id": "jfl_VIzRHyrp"
   },
   "outputs": [],
   "source": [
    "df_train = pd.read_csv('../datasets/iou1_train.csv')\n",
    "df_valid = pd.read_csv('../datasets/iou1_valid.csv')\n",
    "df_test = pd.read_csv('../datasets/iou1_test.csv')"
   ]
  },
  {
   "cell_type": "code",
   "execution_count": null,
   "metadata": {
    "colab": {
     "base_uri": "https://localhost:8080/"
    },
    "executionInfo": {
     "elapsed": 21,
     "status": "ok",
     "timestamp": 1653014685935,
     "user": {
      "displayName": "박선영",
      "userId": "02522110649935123410"
     },
     "user_tz": -540
    },
    "id": "CtRFNqmDIA-U",
    "outputId": "b83af589-f179-4e2c-fcb8-9d85455b4f3f"
   },
   "outputs": [],
   "source": [
    "df_train['class'].unique()"
   ]
  },
  {
   "cell_type": "code",
   "execution_count": null,
   "metadata": {
    "colab": {
     "base_uri": "https://localhost:8080/"
    },
    "executionInfo": {
     "elapsed": 14,
     "status": "ok",
     "timestamp": 1653014685936,
     "user": {
      "displayName": "박선영",
      "userId": "02522110649935123410"
     },
     "user_tz": -540
    },
    "id": "HUQ7-lMkISXD",
    "outputId": "e9b165fe-cea1-43c9-8f45-534593a73bfe"
   },
   "outputs": [],
   "source": [
    "df_train.info()"
   ]
  },
  {
   "cell_type": "code",
   "execution_count": null,
   "metadata": {
    "id": "nAWE0rG1Q34M"
   },
   "outputs": [],
   "source": [
    "#Remove non-predict variable\n",
    "train = df_train.drop(['filename', 'class', 'weather', 'angle', 'depth_min', 'depth_x', 'depth_y'], axis=1)\n",
    "valid = df_valid.drop(['filename', 'class', 'weather', 'angle', 'depth_min', 'depth_x', 'depth_y'], axis=1)\n",
    "test = df_test.drop(['filename', 'class', 'weather', 'angle', 'depth_min', 'depth_x', 'depth_y'], axis=1)"
   ]
  },
  {
   "cell_type": "code",
   "execution_count": null,
   "metadata": {
    "id": "AIfve1ZGQN1Z"
   },
   "outputs": [],
   "source": [
    "#Data split\n",
    "X_train = train.loc[:, train.columns != 'zloc']\n",
    "y_train = train.loc[:, train.columns == 'zloc']\n",
    "\n",
    "X_valid = valid.loc[:, valid.columns != 'zloc']\n",
    "y_valid = valid.loc[:, valid.columns == 'zloc']\n",
    "\n",
    "X_test = test.loc[:, test.columns != 'zloc']\n",
    "y_test = test.loc[:, test.columns == 'zloc']"
   ]
  },
  {
   "cell_type": "code",
   "execution_count": null,
   "metadata": {
    "id": "JLpTygovCsVq"
   },
   "outputs": [],
   "source": [
    "scalerX = StandardScaler().fit(X_train)"
   ]
  },
  {
   "cell_type": "code",
   "execution_count": null,
   "metadata": {
    "id": "TgcHGXKsCtps"
   },
   "outputs": [],
   "source": [
    "X_train_scale = scalerX.transform(X_train)\n",
    "X_valid_scale = scalerX.transform(X_valid)\n",
    "X_test_scale = scalerX.transform(X_test)"
   ]
  },
  {
   "cell_type": "code",
   "execution_count": null,
   "metadata": {
    "id": "mxOS1KKKILvA"
   },
   "outputs": [],
   "source": [
    "# onehot encoding\n",
    "class_dummy = pd.get_dummies(df_train['class'])\n",
    "X_train = pd.concat([pd.DataFrame(X_train_scale), class_dummy], axis=1)\n",
    "class_dummy = pd.get_dummies(df_valid['class'])\n",
    "X_valid = pd.concat([pd.DataFrame(X_valid_scale), class_dummy], axis=1)\n",
    "class_dummy = pd.get_dummies(df_test['class'])\n",
    "X_test = pd.concat([pd.DataFrame(X_test_scale), class_dummy], axis=1)"
   ]
  },
  {
   "cell_type": "code",
   "execution_count": null,
   "metadata": {
    "colab": {
     "base_uri": "https://localhost:8080/",
     "height": 424
    },
    "executionInfo": {
     "elapsed": 393,
     "status": "ok",
     "timestamp": 1653014754951,
     "user": {
      "displayName": "박선영",
      "userId": "02522110649935123410"
     },
     "user_tz": -540
    },
    "id": "9Pjah9QY6ZJc",
    "outputId": "a3569423-735a-4a11-d405-fb397a88cfbe"
   },
   "outputs": [],
   "source": [
    "X_train"
   ]
  },
  {
   "cell_type": "markdown",
   "metadata": {
    "id": "a8t8N5PIWpxx"
   },
   "source": [
    "##RandomForest"
   ]
  },
  {
   "cell_type": "code",
   "execution_count": null,
   "metadata": {
    "colab": {
     "base_uri": "https://localhost:8080/"
    },
    "executionInfo": {
     "elapsed": 25401,
     "status": "ok",
     "timestamp": 1653015424694,
     "user": {
      "displayName": "박선영",
      "userId": "02522110649935123410"
     },
     "user_tz": -540
    },
    "id": "zwE9Lly2Wtm3",
    "outputId": "a100f164-6aad-4800-e724-a4ad9390104a"
   },
   "outputs": [],
   "source": [
    "model = RandomForestRegressor(random_state=1, \n",
    "                                n_estimators=500, \n",
    "                                max_depth=20,\n",
    "                                min_samples_split=2, \n",
    "                                max_features=2, \n",
    "                                warm_start = True)\n",
    "model.fit(X_train, y_train)"
   ]
  },
  {
   "cell_type": "code",
   "execution_count": null,
   "metadata": {
    "id": "ur3afS8gXX5N"
   },
   "outputs": [],
   "source": [
    "def accuracy(pred, actual):\n",
    "  df = pd.DataFrame()\n",
    "  df['pred'] = pred\n",
    "  df['actual'] = actual\n",
    "  df['distance_g'] = actual // 10\n",
    "\n",
    "  df['accuracy'] = abs(df['pred'] - df['actual']) / df['actual']\n",
    "\n",
    "  return df"
   ]
  },
  {
   "cell_type": "code",
   "execution_count": null,
   "metadata": {
    "id": "z3SsOGYjXGg7"
   },
   "outputs": [],
   "source": [
    "def evaluate_metric(model):\n",
    "  train_pred = model.predict(X_train)\n",
    "  valid_pred = model.predict(X_valid)\n",
    "  test_pred = model.predict(X_test)\n",
    "\n",
    "  train_rmse = mean_squared_error(y_train, train_pred) ** 0.5\n",
    "  train_mae = mean_absolute_error(y_train, train_pred)\n",
    "  train_acc = accuracy(train_pred, y_train)\n",
    "  train_accuracy = np.mean(train_acc['accuracy'])\n",
    "\n",
    "  val_rmse = mean_squared_error(y_valid, valid_pred) ** 0.5\n",
    "  val_mae = mean_absolute_error(y_valid, valid_pred)\n",
    "  val_acc = accuracy(valid_pred, y_valid)\n",
    "  val_accuracy = np.mean(val_acc['accuracy'])\n",
    "\n",
    "  test_rmse = mean_squared_error(y_test, test_pred) ** 0.5\n",
    "  test_mae = mean_absolute_error(y_test, test_pred)\n",
    "  test_acc = accuracy(test_pred, y_test)\n",
    "  test_accuracy = np.mean(test_acc['accuracy'])\n",
    "\n",
    "  print(\"Train - RMSE: {:6.5} / MAE: {:6.5} / Accuracy: {:6.5}\".format(train_rmse, train_mae, 1-train_accuracy))\n",
    "  print(\"Valid - RMSE: {:6.5} / MAE: {:6.5} / Accuracy: {:6.5}\".format(val_rmse, val_mae, 1-val_accuracy))\n",
    "  print(\"Test  - RMSE: {:6.5} / MAE: {:6.5} / Accuracy: {:6.5}\".format(test_rmse, test_mae, 1-test_accuracy))\n",
    "\n",
    "  return train_acc,test_acc"
   ]
  },
  {
   "cell_type": "code",
   "execution_count": null,
   "metadata": {
    "colab": {
     "base_uri": "https://localhost:8080/"
    },
    "executionInfo": {
     "elapsed": 3404,
     "status": "ok",
     "timestamp": 1653016082152,
     "user": {
      "displayName": "박선영",
      "userId": "02522110649935123410"
     },
     "user_tz": -540
    },
    "id": "NpOKJ3tkYv4l",
    "outputId": "69fddecf-1273-4097-f96e-34929999f3ad"
   },
   "outputs": [],
   "source": [
    "import warnings\n",
    "warnings.filterwarnings(action='ignore')\n",
    "\n",
    "train_acc, test_acc = evaluate_metric(model)"
   ]
  },
  {
   "cell_type": "code",
   "execution_count": null,
   "metadata": {
    "colab": {
     "base_uri": "https://localhost:8080/",
     "height": 206
    },
    "executionInfo": {
     "elapsed": 290,
     "status": "ok",
     "timestamp": 1653015867954,
     "user": {
      "displayName": "박선영",
      "userId": "02522110649935123410"
     },
     "user_tz": -540
    },
    "id": "81mtcoT2bEQB",
    "outputId": "af42cbe8-6c45-494d-ac12-9650e2841a8f"
   },
   "outputs": [],
   "source": [
    "train_acc.head()"
   ]
  },
  {
   "cell_type": "code",
   "execution_count": null,
   "metadata": {
    "colab": {
     "base_uri": "https://localhost:8080/",
     "height": 206
    },
    "executionInfo": {
     "elapsed": 728,
     "status": "ok",
     "timestamp": 1653015458646,
     "user": {
      "displayName": "박선영",
      "userId": "02522110649935123410"
     },
     "user_tz": -540
    },
    "id": "o18hx9feZiKS",
    "outputId": "ebe85d8e-369e-4ff2-aedf-02223a6cfe81"
   },
   "outputs": [],
   "source": [
    "test_acc.head()"
   ]
  },
  {
   "cell_type": "code",
   "execution_count": null,
   "metadata": {
    "id": "DbnKhRQlZkzx"
   },
   "outputs": [],
   "source": [
    "test_err_rate = test_acc[['accuracy', 'distance_g']].groupby(['distance_g']).mean()"
   ]
  },
  {
   "cell_type": "code",
   "execution_count": null,
   "metadata": {
    "colab": {
     "base_uri": "https://localhost:8080/",
     "height": 363
    },
    "executionInfo": {
     "elapsed": 15,
     "status": "ok",
     "timestamp": 1653016159939,
     "user": {
      "displayName": "박선영",
      "userId": "02522110649935123410"
     },
     "user_tz": -540
    },
    "id": "iZY5-QdvanbU",
    "outputId": "46a9b8e6-d26c-47b4-9c58-c8c7847ee02f"
   },
   "outputs": [],
   "source": [
    "test_err_rate"
   ]
  },
  {
   "cell_type": "code",
   "execution_count": null,
   "metadata": {
    "colab": {
     "base_uri": "https://localhost:8080/",
     "height": 363
    },
    "executionInfo": {
     "elapsed": 13,
     "status": "ok",
     "timestamp": 1653016160351,
     "user": {
      "displayName": "박선영",
      "userId": "02522110649935123410"
     },
     "user_tz": -540
    },
    "id": "lv8TxZQqassd",
    "outputId": "88b236b2-4d9b-444f-8bbb-e37eee36aed0"
   },
   "outputs": [],
   "source": [
    "test_acc[['accuracy', 'distance_g']].groupby(['distance_g']).count()"
   ]
  },
  {
   "cell_type": "code",
   "execution_count": null,
   "metadata": {
    "colab": {
     "base_uri": "https://localhost:8080/"
    },
    "executionInfo": {
     "elapsed": 446,
     "status": "ok",
     "timestamp": 1653016160787,
     "user": {
      "displayName": "박선영",
      "userId": "02522110649935123410"
     },
     "user_tz": -540
    },
    "id": "MC3aqIK_Z18l",
    "outputId": "7f618ca2-87ca-4960-f04d-3826cf597618"
   },
   "outputs": [],
   "source": [
    "for i in range(len(test_err_rate.values)):\n",
    "  print('Distance Interval: {0} ~ {1} - Accuracy: {2}'.format(i*10, (i+1)*10, 1-test_err_rate.accuracy[i]))"
   ]
  },
  {
   "cell_type": "markdown",
   "metadata": {
    "id": "FXpjjNBU-sG5"
   },
   "source": [
    "###RandomForest Tuning"
   ]
  },
  {
   "cell_type": "code",
   "execution_count": null,
   "metadata": {
    "id": "AE5-N3cs_kcQ"
   },
   "outputs": [],
   "source": [
    "n_estimators = [50, 100, 200, 300, 500]\n",
    "max_depth = range(5,25,5)\n",
    "min_samples_split = [2, 5, 10, 20]\n",
    "max_features = range(2,12,2)\n",
    "params = [n_estimators, max_depth, min_samples_split, max_features]"
   ]
  },
  {
   "cell_type": "code",
   "execution_count": null,
   "metadata": {
    "colab": {
     "background_save": true,
     "base_uri": "https://localhost:8080/"
    },
    "executionInfo": {
     "elapsed": 5901979,
     "status": "ok",
     "timestamp": 1652342619794,
     "user": {
      "displayName": "박선영",
      "userId": "02522110649935123410"
     },
     "user_tz": -540
    },
    "id": "nUcmdVH8AQuM",
    "outputId": "a4ebc608-f098-4b2f-ea1c-f62e02f2a6d0"
   },
   "outputs": [],
   "source": [
    "import warnings\n",
    "warnings.filterwarnings(action='ignore')\n",
    "import itertools\n",
    "from tqdm import tqdm \n",
    "\n",
    "\n",
    "best_rmse = np.inf\n",
    "best_mae = np.inf\n",
    "rmse_best_param = pd.DataFrame()\n",
    "mae_best_param = pd.DataFrame()\n",
    "\n",
    "res_df = pd.DataFrame(columns = ['train_mae','valid_mae','train_rmse', 'valid_rmse','n_estimators', 'max_depth', 'min_samples', 'max_features'])\n",
    "\n",
    "param_list = list(itertools.product(*params))\n",
    "for n, d, s, f in tqdm(param_list):\n",
    "  model = RandomForestRegressor(random_state=1, \n",
    "                                n_estimators=n, \n",
    "                                max_depth=d,\n",
    "                                min_samples_split=s, \n",
    "                                max_features=f, \n",
    "                                warm_start = True)\n",
    "  model.fit(X_train, y_train)\n",
    "\n",
    "  train_pred = model.predict(X_train)\n",
    "  valid_pred = model.predict(X_valid)\n",
    "\n",
    "  train_mse = mean_squared_error(y_train, train_pred)\n",
    "  train_rmse = train_mse ** 0.5\n",
    "  train_mae = mean_absolute_error(y_train, train_pred)\n",
    "  val_mse = mean_squared_error(y_valid, valid_pred)\n",
    "  val_rmse = val_mse ** 0.5\n",
    "  val_mae = mean_absolute_error(y_valid, valid_pred)\n",
    "\n",
    "  res = pd.DataFrame([{'train_mae':train_mae, 'valid_mae': val_mae, 'train_rmse' : train_rmse, 'valid_rmse': val_rmse,\n",
    "                       'n_estimators':n, 'max_depth':d, 'min_samples':s, 'max_features':f}])\n",
    "  res_df = pd.concat([res_df, res])\n",
    "\n",
    "  if best_rmse > val_rmse:\n",
    "    rmse_best_param = res\n",
    "    best_rmse = val_rmse\n",
    "  if best_mae > val_mae:\n",
    "    mae_best_param = res\n",
    "    best_mae = val_mae\n",
    "  print(\"Train_RMSE : {0}, Valid_RMSE: {1}, Train_MAE: {2}, Valid_MAE: {3}, n_estimators:{4}, max_depth: {5}, min_samples: {6}, max_features: {7}\".format(train_rmse, val_rmse, train_mae, val_mae, n, d, s, f))"
   ]
  },
  {
   "cell_type": "code",
   "execution_count": null,
   "metadata": {
    "colab": {
     "base_uri": "https://localhost:8080/"
    },
    "executionInfo": {
     "elapsed": 106,
     "status": "ok",
     "timestamp": 1652342619797,
     "user": {
      "displayName": "박선영",
      "userId": "02522110649935123410"
     },
     "user_tz": -540
    },
    "id": "f5Yi_Pao_KdQ",
    "outputId": "506e9779-9bc6-4220-b503-e6b277cefc96"
   },
   "outputs": [],
   "source": [
    "print(rmse_best_param)"
   ]
  },
  {
   "cell_type": "code",
   "execution_count": null,
   "metadata": {
    "colab": {
     "base_uri": "https://localhost:8080/"
    },
    "executionInfo": {
     "elapsed": 39,
     "status": "ok",
     "timestamp": 1652342619798,
     "user": {
      "displayName": "박선영",
      "userId": "02522110649935123410"
     },
     "user_tz": -540
    },
    "id": "lt6bzH-3DM5m",
    "outputId": "b2e881b0-dd70-480b-bcbb-2299def073b0"
   },
   "outputs": [],
   "source": [
    "print(mae_best_param)"
   ]
  },
  {
   "cell_type": "code",
   "execution_count": null,
   "metadata": {
    "id": "JA6HsVp3DRXW"
   },
   "outputs": [],
   "source": [
    "res_df.to_csv(\"odd/weights/RandomForest/RandomForset_Tuning22.csv\", index=False)"
   ]
  },
  {
   "cell_type": "code",
   "execution_count": null,
   "metadata": {
    "colab": {
     "base_uri": "https://localhost:8080/",
     "height": 611
    },
    "executionInfo": {
     "elapsed": 678,
     "status": "ok",
     "timestamp": 1650961310419,
     "user": {
      "displayName": "박선영",
      "userId": "02522110649935123410"
     },
     "user_tz": -540
    },
    "id": "N3g9y0wUXoWu",
    "outputId": "dffe4d1c-d209-492e-8fad-2fad47143946"
   },
   "outputs": [],
   "source": [
    "import matplotlib.pyplot as plt\n",
    "plt.figure(figsize=(10,10))\n",
    "plt.scatter(pred, y_test, c='crimson')\n",
    "\n",
    "p1 = max(max(res_df.pred_scale), max(res_df.actual_scale))\n",
    "p2 = min(min(res_df.pred_scale), min(res_df.actual_scale))\n",
    "plt.plot([p1, p2], [p1, p2], 'b-')\n",
    "plt.xlabel('True Values', fontsize=15)\n",
    "plt.ylabel('Predictions', fontsize=15)\n",
    "plt.axis('equal')\n",
    "plt.show()"
   ]
  },
  {
   "cell_type": "code",
   "execution_count": null,
   "metadata": {
    "id": "OfB-o7e88jp2"
   },
   "outputs": [],
   "source": [
    "df_train = pd.read_csv('datasets/iou1_train.csv')\n",
    "df_valid = pd.read_csv('datasets/iou1_valid.csv')\n",
    "df_test = pd.read_csv('datasets/iou1_test.csv')"
   ]
  },
  {
   "cell_type": "code",
   "execution_count": null,
   "metadata": {
    "id": "U4wQfBKu8jp6"
   },
   "outputs": [],
   "source": [
    "train = df_train.drop(['filename', 'class', 'weather', 'angle', 'depth_min', 'depth_max', 'depth_median'], axis=1)\n",
    "valid = df_valid.drop(['filename', 'class', 'weather', 'angle', 'depth_min', 'depth_max', 'depth_median'], axis=1)\n",
    "test = df_test.drop(['filename', 'class', 'weather', 'angle', 'depth_min', 'depth_max', 'depth_median'], axis=1)"
   ]
  },
  {
   "cell_type": "code",
   "execution_count": null,
   "metadata": {
    "id": "vS1kn4ez8jp6"
   },
   "outputs": [],
   "source": [
    "X_train = train.loc[:, train.columns != 'zloc']\n",
    "y_train = train.loc[:, train.columns == 'zloc']\n",
    "\n",
    "X_valid = valid.loc[:, valid.columns != 'zloc']\n",
    "y_valid = valid.loc[:, valid.columns == 'zloc']\n",
    "\n",
    "X_test = test.loc[:, test.columns != 'zloc']\n",
    "y_test = test.loc[:, test.columns == 'zloc']"
   ]
  },
  {
   "cell_type": "code",
   "execution_count": null,
   "metadata": {
    "id": "uXVUvHJK8jp7"
   },
   "outputs": [],
   "source": [
    "from sklearn.preprocessing import StandardScaler\n",
    "scalerX = StandardScaler().fit(X_train)\n",
    "#scalery = StandardScaler().fit(y_train)"
   ]
  },
  {
   "cell_type": "code",
   "execution_count": null,
   "metadata": {
    "id": "dZZfIlEF8jp7"
   },
   "outputs": [],
   "source": [
    "X_train_scale = scalerX.transform(X_train)\n",
    "X_valid_scale = scalerX.transform(X_valid)\n",
    "X_test_scale = scalerX.transform(X_test)"
   ]
  },
  {
   "cell_type": "code",
   "execution_count": null,
   "metadata": {
    "id": "dNl8Ld3X8jp7"
   },
   "outputs": [],
   "source": [
    "# onehot encoding\n",
    "class_dummy = pd.get_dummies(df_train['class'])\n",
    "X_train = pd.concat([pd.DataFrame(X_train_scale), class_dummy], axis=1)\n",
    "class_dummy = pd.get_dummies(df_valid['class'])\n",
    "X_valid = pd.concat([pd.DataFrame(X_valid_scale), class_dummy], axis=1)\n",
    "class_dummy = pd.get_dummies(df_test['class'])\n",
    "X_test = pd.concat([pd.DataFrame(X_test_scale), class_dummy], axis=1)"
   ]
  },
  {
   "cell_type": "code",
   "execution_count": null,
   "metadata": {
    "id": "8iG3cL6X8unb"
   },
   "outputs": [],
   "source": [
    "from sklearn.preprocessing import StandardScaler\n",
    "scalerX = StandardScaler().fit(X_train)\n",
    "#scalery = StandardScaler().fit(y_train)"
   ]
  },
  {
   "cell_type": "code",
   "execution_count": null,
   "metadata": {
    "id": "sohg4SMl8und"
   },
   "outputs": [],
   "source": [
    "X_train = scalerX.transform(X_train)\n",
    "X_valid = scalerX.transform(X_valid)\n",
    "X_test = scalerX.transform(X_test)"
   ]
  },
  {
   "cell_type": "code",
   "execution_count": null,
   "metadata": {
    "colab": {
     "base_uri": "https://localhost:8080/"
    },
    "executionInfo": {
     "elapsed": 5,
     "status": "ok",
     "timestamp": 1652342710291,
     "user": {
      "displayName": "박선영",
      "userId": "02522110649935123410"
     },
     "user_tz": -540
    },
    "id": "25jKrfZs8jp7",
    "outputId": "8de4dc1b-aec9-40b2-fb48-643eb40aea53"
   },
   "outputs": [],
   "source": [
    "X_train"
   ]
  }
 ],
 "metadata": {
  "colab": {
   "collapsed_sections": [],
   "name": "RandomForest_train.ipynb",
   "provenance": []
  },
  "kernelspec": {
   "display_name": "Python 3 (ipykernel)",
   "language": "python",
   "name": "python3"
  },
  "language_info": {
   "codemirror_mode": {
    "name": "ipython",
    "version": 3
   },
   "file_extension": ".py",
   "mimetype": "text/x-python",
   "name": "python",
   "nbconvert_exporter": "python",
   "pygments_lexer": "ipython3",
   "version": "3.8.12"
  }
 },
 "nbformat": 4,
 "nbformat_minor": 1
}
